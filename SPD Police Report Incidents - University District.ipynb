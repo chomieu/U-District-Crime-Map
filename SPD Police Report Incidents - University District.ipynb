{
 "cells": [
  {
   "cell_type": "code",
   "execution_count": 9,
   "metadata": {
    "collapsed": true
   },
   "outputs": [],
   "source": [
    "# Preliminaries\n",
    "import numpy as np\n",
    "import pandas as pd\n",
    "import geopandas as gpd\n",
    "from geopandas import GeoDataFrame\n",
    "from geopandas.tools import sjoin\n",
    "from shapely.geometry import Point\n",
    "from random import randint\n",
    "import matplotlib.pyplot as plt\n",
    "%matplotlib inline"
   ]
  },
  {
   "cell_type": "code",
   "execution_count": 2,
   "metadata": {
    "collapsed": true
   },
   "outputs": [],
   "source": [
    "# Import SPD Incidents dataset from data.seattle.gov, drop any duplicates\n",
    "spd = pd.read_csv(\"Seattle_Police_Department_Police_Report_Incident.csv\").drop_duplicates(keep=\"first\")\n",
    "\n",
    "# Import Seattle Neighborhoods dataset from github.com/seattleio (original .geojson file has been converted to .json)\n",
    "nbh = gpd.read_file(\"neighborhoods.json\")"
   ]
  },
  {
   "cell_type": "code",
   "execution_count": 3,
   "metadata": {},
   "outputs": [
    {
     "name": "stdout",
     "output_type": "stream",
     "text": [
      "Warning: CRS does not match!\n"
     ]
    }
   ],
   "source": [
    "# Get points within the University District boundaries\n",
    "geometry = [Point(xy) for xy in zip(spd.Longitude, spd.Latitude)]\n",
    "crs = {'init': 'epsg:4326'}\n",
    "spd = GeoDataFrame(spd, crs=crs, geometry=geometry)\n",
    "udist_geo = nbh[nbh[\"name\"] == \"University District\"]\n",
    "pointInPolys = sjoin(spd, udist_geo, how='left')\n",
    "df = pointInPolys[pointInPolys['index_right'] == 5.0]"
   ]
  },
  {
   "cell_type": "code",
   "execution_count": 4,
   "metadata": {
    "scrolled": false
   },
   "outputs": [
    {
     "data": {
      "text/html": [
       "<div>\n",
       "<style>\n",
       "    .dataframe thead tr:only-child th {\n",
       "        text-align: right;\n",
       "    }\n",
       "\n",
       "    .dataframe thead th {\n",
       "        text-align: left;\n",
       "    }\n",
       "\n",
       "    .dataframe tbody tr th {\n",
       "        vertical-align: top;\n",
       "    }\n",
       "</style>\n",
       "<table border=\"1\" class=\"dataframe\">\n",
       "  <thead>\n",
       "    <tr style=\"text-align: right;\">\n",
       "      <th></th>\n",
       "      <th>RMS CDW ID</th>\n",
       "      <th>General Offense Number</th>\n",
       "      <th>Offense Code</th>\n",
       "      <th>Offense Code Extension</th>\n",
       "      <th>Offense Type</th>\n",
       "      <th>Summary Offense Code</th>\n",
       "      <th>Summarized Offense Description</th>\n",
       "      <th>Date Reported</th>\n",
       "      <th>Occurred Date or Date Range Start</th>\n",
       "      <th>Occurred Date Range End</th>\n",
       "      <th>...</th>\n",
       "      <th>Year</th>\n",
       "      <th>geometry</th>\n",
       "      <th>index_right</th>\n",
       "      <th>id</th>\n",
       "      <th>city</th>\n",
       "      <th>county</th>\n",
       "      <th>nhood</th>\n",
       "      <th>nested</th>\n",
       "      <th>area</th>\n",
       "      <th>name</th>\n",
       "    </tr>\n",
       "  </thead>\n",
       "  <tbody>\n",
       "    <tr>\n",
       "      <th>18</th>\n",
       "      <td>1412044</td>\n",
       "      <td>2010427618</td>\n",
       "      <td>2308</td>\n",
       "      <td>0.0</td>\n",
       "      <td>THEFT-BUILDING</td>\n",
       "      <td>2300</td>\n",
       "      <td>OTHER PROPERTY</td>\n",
       "      <td>12/12/2010 04:04:00 PM</td>\n",
       "      <td>12/11/2010 11:00:00 PM</td>\n",
       "      <td>12/12/2010 12:30:00 AM</td>\n",
       "      <td>...</td>\n",
       "      <td>2010</td>\n",
       "      <td>POINT (-122.313034058 47.667491913)</td>\n",
       "      <td>5.0</td>\n",
       "      <td>Seattle:University District:</td>\n",
       "      <td>Seattle</td>\n",
       "      <td>King</td>\n",
       "      <td>University District</td>\n",
       "      <td>None</td>\n",
       "      <td>4.934839e+07</td>\n",
       "      <td>University District</td>\n",
       "    </tr>\n",
       "    <tr>\n",
       "      <th>62</th>\n",
       "      <td>1032298</td>\n",
       "      <td>2016265287</td>\n",
       "      <td>2404</td>\n",
       "      <td>8.0</td>\n",
       "      <td>VEH-THEFT-TRUCK</td>\n",
       "      <td>2400</td>\n",
       "      <td>VEHICLE THEFT</td>\n",
       "      <td>07/24/2016 03:44:00 PM</td>\n",
       "      <td>07/21/2016 08:00:00 PM</td>\n",
       "      <td>07/24/2016 03:44:00 PM</td>\n",
       "      <td>...</td>\n",
       "      <td>2016</td>\n",
       "      <td>POINT (-122.308311462 47.665634155)</td>\n",
       "      <td>5.0</td>\n",
       "      <td>Seattle:University District:</td>\n",
       "      <td>Seattle</td>\n",
       "      <td>King</td>\n",
       "      <td>University District</td>\n",
       "      <td>None</td>\n",
       "      <td>4.934839e+07</td>\n",
       "      <td>University District</td>\n",
       "    </tr>\n",
       "    <tr>\n",
       "      <th>110</th>\n",
       "      <td>1412085</td>\n",
       "      <td>2010428396</td>\n",
       "      <td>5050</td>\n",
       "      <td>1.0</td>\n",
       "      <td>HARASSMENT</td>\n",
       "      <td>5000</td>\n",
       "      <td>THREATS</td>\n",
       "      <td>12/13/2010 08:56:00 AM</td>\n",
       "      <td>06/01/2010 12:01:00 AM</td>\n",
       "      <td>12/13/2010 07:00:00 AM</td>\n",
       "      <td>...</td>\n",
       "      <td>2010</td>\n",
       "      <td>POINT (-122.317359924 47.669715881)</td>\n",
       "      <td>5.0</td>\n",
       "      <td>Seattle:University District:</td>\n",
       "      <td>Seattle</td>\n",
       "      <td>King</td>\n",
       "      <td>University District</td>\n",
       "      <td>None</td>\n",
       "      <td>4.934839e+07</td>\n",
       "      <td>University District</td>\n",
       "    </tr>\n",
       "    <tr>\n",
       "      <th>118</th>\n",
       "      <td>1412088</td>\n",
       "      <td>2010428464</td>\n",
       "      <td>1313</td>\n",
       "      <td>0.0</td>\n",
       "      <td>ASSLT-NONAGG</td>\n",
       "      <td>1300</td>\n",
       "      <td>ASSAULT</td>\n",
       "      <td>12/13/2010 01:57:00 PM</td>\n",
       "      <td>12/13/2010 10:16:00 AM</td>\n",
       "      <td>NaN</td>\n",
       "      <td>...</td>\n",
       "      <td>2010</td>\n",
       "      <td>POINT (-122.313117981 47.662181854)</td>\n",
       "      <td>5.0</td>\n",
       "      <td>Seattle:University District:</td>\n",
       "      <td>Seattle</td>\n",
       "      <td>King</td>\n",
       "      <td>University District</td>\n",
       "      <td>None</td>\n",
       "      <td>4.934839e+07</td>\n",
       "      <td>University District</td>\n",
       "    </tr>\n",
       "    <tr>\n",
       "      <th>125</th>\n",
       "      <td>1032361</td>\n",
       "      <td>2016320567</td>\n",
       "      <td>2308</td>\n",
       "      <td>0.0</td>\n",
       "      <td>THEFT-BUILDING</td>\n",
       "      <td>2300</td>\n",
       "      <td>OTHER PROPERTY</td>\n",
       "      <td>09/04/2016 08:41:00 AM</td>\n",
       "      <td>09/04/2016 12:01:00 AM</td>\n",
       "      <td>09/04/2016 08:30:00 AM</td>\n",
       "      <td>...</td>\n",
       "      <td>2016</td>\n",
       "      <td>POINT (-122.306495667 47.667217255)</td>\n",
       "      <td>5.0</td>\n",
       "      <td>Seattle:University District:</td>\n",
       "      <td>Seattle</td>\n",
       "      <td>King</td>\n",
       "      <td>University District</td>\n",
       "      <td>None</td>\n",
       "      <td>4.934839e+07</td>\n",
       "      <td>University District</td>\n",
       "    </tr>\n",
       "  </tbody>\n",
       "</table>\n",
       "<p>5 rows × 28 columns</p>\n",
       "</div>"
      ],
      "text/plain": [
       "     RMS CDW ID  General Offense Number Offense Code  Offense Code Extension  \\\n",
       "18      1412044              2010427618         2308                     0.0   \n",
       "62      1032298              2016265287         2404                     8.0   \n",
       "110     1412085              2010428396         5050                     1.0   \n",
       "118     1412088              2010428464         1313                     0.0   \n",
       "125     1032361              2016320567         2308                     0.0   \n",
       "\n",
       "        Offense Type Summary Offense Code Summarized Offense Description  \\\n",
       "18    THEFT-BUILDING                 2300                 OTHER PROPERTY   \n",
       "62   VEH-THEFT-TRUCK                 2400                  VEHICLE THEFT   \n",
       "110       HARASSMENT                 5000                        THREATS   \n",
       "118     ASSLT-NONAGG                 1300                        ASSAULT   \n",
       "125   THEFT-BUILDING                 2300                 OTHER PROPERTY   \n",
       "\n",
       "              Date Reported Occurred Date or Date Range Start  \\\n",
       "18   12/12/2010 04:04:00 PM            12/11/2010 11:00:00 PM   \n",
       "62   07/24/2016 03:44:00 PM            07/21/2016 08:00:00 PM   \n",
       "110  12/13/2010 08:56:00 AM            06/01/2010 12:01:00 AM   \n",
       "118  12/13/2010 01:57:00 PM            12/13/2010 10:16:00 AM   \n",
       "125  09/04/2016 08:41:00 AM            09/04/2016 12:01:00 AM   \n",
       "\n",
       "    Occurred Date Range End         ...           Year  \\\n",
       "18   12/12/2010 12:30:00 AM         ...           2010   \n",
       "62   07/24/2016 03:44:00 PM         ...           2016   \n",
       "110  12/13/2010 07:00:00 AM         ...           2010   \n",
       "118                     NaN         ...           2010   \n",
       "125  09/04/2016 08:30:00 AM         ...           2016   \n",
       "\n",
       "                                geometry index_right  \\\n",
       "18   POINT (-122.313034058 47.667491913)         5.0   \n",
       "62   POINT (-122.308311462 47.665634155)         5.0   \n",
       "110  POINT (-122.317359924 47.669715881)         5.0   \n",
       "118  POINT (-122.313117981 47.662181854)         5.0   \n",
       "125  POINT (-122.306495667 47.667217255)         5.0   \n",
       "\n",
       "                               id     city  county                nhood  \\\n",
       "18   Seattle:University District:  Seattle    King  University District   \n",
       "62   Seattle:University District:  Seattle    King  University District   \n",
       "110  Seattle:University District:  Seattle    King  University District   \n",
       "118  Seattle:University District:  Seattle    King  University District   \n",
       "125  Seattle:University District:  Seattle    King  University District   \n",
       "\n",
       "     nested          area                 name  \n",
       "18     None  4.934839e+07  University District  \n",
       "62     None  4.934839e+07  University District  \n",
       "110    None  4.934839e+07  University District  \n",
       "118    None  4.934839e+07  University District  \n",
       "125    None  4.934839e+07  University District  \n",
       "\n",
       "[5 rows x 28 columns]"
      ]
     },
     "execution_count": 4,
     "metadata": {},
     "output_type": "execute_result"
    }
   ],
   "source": [
    "df.head()"
   ]
  },
  {
   "cell_type": "code",
   "execution_count": 5,
   "metadata": {},
   "outputs": [
    {
     "name": "stderr",
     "output_type": "stream",
     "text": [
      "C:\\Users\\Chomie\\Anaconda3\\lib\\site-packages\\ipykernel_launcher.py:3: SettingWithCopyWarning: \n",
      "A value is trying to be set on a copy of a slice from a DataFrame.\n",
      "Try using .loc[row_indexer,col_indexer] = value instead\n",
      "\n",
      "See the caveats in the documentation: http://pandas.pydata.org/pandas-docs/stable/indexing.html#indexing-view-versus-copy\n",
      "  This is separate from the ipykernel package so we can avoid doing imports until\n",
      "C:\\Users\\Chomie\\Anaconda3\\lib\\site-packages\\ipykernel_launcher.py:4: SettingWithCopyWarning: \n",
      "A value is trying to be set on a copy of a slice from a DataFrame.\n",
      "Try using .loc[row_indexer,col_indexer] = value instead\n",
      "\n",
      "See the caveats in the documentation: http://pandas.pydata.org/pandas-docs/stable/indexing.html#indexing-view-versus-copy\n",
      "  after removing the cwd from sys.path.\n",
      "C:\\Users\\Chomie\\Anaconda3\\lib\\site-packages\\ipykernel_launcher.py:5: SettingWithCopyWarning: \n",
      "A value is trying to be set on a copy of a slice from a DataFrame.\n",
      "Try using .loc[row_indexer,col_indexer] = value instead\n",
      "\n",
      "See the caveats in the documentation: http://pandas.pydata.org/pandas-docs/stable/indexing.html#indexing-view-versus-copy\n",
      "  \"\"\"\n",
      "C:\\Users\\Chomie\\Anaconda3\\lib\\site-packages\\ipykernel_launcher.py:6: SettingWithCopyWarning: \n",
      "A value is trying to be set on a copy of a slice from a DataFrame.\n",
      "Try using .loc[row_indexer,col_indexer] = value instead\n",
      "\n",
      "See the caveats in the documentation: http://pandas.pydata.org/pandas-docs/stable/indexing.html#indexing-view-versus-copy\n",
      "  \n"
     ]
    }
   ],
   "source": [
    "# Extract datetime\n",
    "time = df['Occurred Date or Date Range Start']\n",
    "datetime = df[\"datetime\"] = pd.to_datetime(time)\n",
    "df['day'] = datetime.apply(lambda x: x.weekday())\n",
    "df['hour'] = datetime.dt.hour\n",
    "df['week'] = datetime.dt.week"
   ]
  },
  {
   "cell_type": "code",
   "execution_count": 6,
   "metadata": {
    "collapsed": true
   },
   "outputs": [],
   "source": [
    "# Renaming\n",
    "change = {'BURGLARY-SECURE PARKING-RES': 'BURGLARY'}\n",
    "df = df.rename(columns={'Summarized Offense Description': 'otype'}).replace({'otype': change})\n",
    "\n",
    "# Create text from column 6 (Summarized Offense Description) and 8 (Occured Date or Date Range Start)\n",
    "df['text'] = df.iloc[:,[6, 8]].apply(lambda x: ' '.join(x), axis=1)\n",
    "\n",
    "# Select data to be exported\n",
    "df = df[df['Year'] > 2007].reset_index()\n",
    "df_udist = df.iloc[:,[7,18,19,20,31,33]]"
   ]
  },
  {
   "cell_type": "code",
   "execution_count": 50,
   "metadata": {
    "collapsed": true
   },
   "outputs": [],
   "source": [
    "# Generate a unique color for each type of incident\n",
    "colors = []\n",
    "for i in range(48):\n",
    "    colors.append('#%06X' % randint(0, 0xFFFFFF))"
   ]
  },
  {
   "cell_type": "code",
   "execution_count": 51,
   "metadata": {},
   "outputs": [
    {
     "name": "stderr",
     "output_type": "stream",
     "text": [
      "C:\\Users\\Chomie\\Anaconda3\\lib\\site-packages\\ipykernel_launcher.py:7: SettingWithCopyWarning: \n",
      "A value is trying to be set on a copy of a slice from a DataFrame.\n",
      "Try using .loc[row_indexer,col_indexer] = value instead\n",
      "\n",
      "See the caveats in the documentation: http://pandas.pydata.org/pandas-docs/stable/indexing.html#indexing-view-versus-copy\n",
      "  import sys\n"
     ]
    }
   ],
   "source": [
    "# Build a series of colors and add to the dataframe\n",
    "s_colors = []\n",
    "for i in range(len(df_udist)):\n",
    "    s_colors.append(colors[list(df_udist.otype.unique()).index(df_udist.otype[i])])\n",
    "    \n",
    "df_udist['color'] = s_colors"
   ]
  },
  {
   "cell_type": "code",
   "execution_count": 52,
   "metadata": {
    "collapsed": true
   },
   "outputs": [],
   "source": [
    "# Export dataframe as .geojson\n",
    "output_filename = 'df_udist.geojson'\n",
    "with open(output_filename, 'w') as f:\n",
    "    f.write(df_udist.to_json())"
   ]
  }
 ],
 "metadata": {
  "kernelspec": {
   "display_name": "Python 3",
   "language": "python",
   "name": "python3"
  },
  "language_info": {
   "codemirror_mode": {
    "name": "ipython",
    "version": 3
   },
   "file_extension": ".py",
   "mimetype": "text/x-python",
   "name": "python",
   "nbconvert_exporter": "python",
   "pygments_lexer": "ipython3",
   "version": "3.6.3"
  }
 },
 "nbformat": 4,
 "nbformat_minor": 2
}
